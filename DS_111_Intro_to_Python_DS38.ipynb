{
  "cells": [
    {
      "cell_type": "markdown",
      "metadata": {
        "id": "view-in-github",
        "colab_type": "text"
      },
      "source": [
        "<a href=\"https://colab.research.google.com/github/oansari03/DS-Unit-1-Sprint-1-Data-Wrangling-and-Storytelling/blob/master/DS_111_Intro_to_Python_DS38.ipynb\" target=\"_parent\"><img src=\"https://colab.research.google.com/assets/colab-badge.svg\" alt=\"Open In Colab\"/></a>"
      ]
    },
    {
      "cell_type": "markdown",
      "id": "1adef5c8",
      "metadata": {
        "id": "1adef5c8"
      },
      "source": [
        "\n",
        "# Introduction to Python"
      ]
    },
    {
      "cell_type": "markdown",
      "id": "8c9755c2",
      "metadata": {
        "id": "8c9755c2"
      },
      "source": [
        "> - Objective 01 - Submit Assignments and Save Work via Canvas\n",
        "> - Objective 02 - Working with Canvas, Colab, and Class Tools\n",
        "> - Objective 03 - Determine and describe Python datatypes\n",
        "> - Objective 04 - Understand Python Syntax, Loops and Conditionals\n",
        "\n"
      ]
    },
    {
      "cell_type": "markdown",
      "id": "40f820a3",
      "metadata": {
        "id": "40f820a3"
      },
      "source": [
        "# Working with Canvas and Colab"
      ]
    },
    {
      "cell_type": "markdown",
      "id": "4904bfd2",
      "metadata": {
        "id": "4904bfd2"
      },
      "source": [
        "## Overview\n",
        "\n",
        "We will use Canvas, Colab and CodeGrade to work on, submit and evaluate projects.\n",
        "\n",
        "**Canvas** is a learning management system you that provides extra information you can use to help prepare for Guided Projects and as a resource when you are working on your individual sproject each afternoon.  \n",
        "\n",
        "**GitHub** is where the notebook for your Module Project is located. \n",
        "\n",
        "**Colab** (where you are right now) is the web-based notebook we will use for working on guided and module projects and sprint challenges.\n",
        "\n",
        "**CodeGrade** is the system that will evaluate your module projects and all your Sprint Challenges.\n",
        "\n",
        "**You will  access to and submit your module projects and sprint challenges in Canvas.**"
      ]
    },
    {
      "cell_type": "markdown",
      "id": "2719bccc",
      "metadata": {
        "id": "2719bccc"
      },
      "source": [
        "### 1) Open Canvas and navigate to the course for the sprint we are currently in.\n",
        "\n",
        "In this case, it is **Introduction to Python DS1.1 DSXX** where XX is your cohort number.\n",
        "\n",
        "\n",
        "The course will automatically open to the Overview page were you can take a look at all of the concepts we'll be covering throughout the Sprint.  Click on the links to see what will be covered in each module.\n",
        "\n",
        "When you click on Modules on the left hand side, you'll see content for each module divided into three sections:\n",
        "* Warmup is an intro to what will be covered during Guided Project\n",
        "* Engage is where you'll see the module project, the check for understanding, and pulse check.\n",
        "* Review is where you can find links to previous class recordings."
      ]
    },
    {
      "cell_type": "markdown",
      "id": "37eb5477",
      "metadata": {
        "id": "37eb5477"
      },
      "source": [
        "### 2) How to access the Guided and Module Project from Canvas:\n",
        "\n",
        "Under **Engage** in Canvas, click on the **Module # Project** link. This will direct you to Github. \n",
        "\n",
        "The files that we will be working with primarily during the course have the file extension: .ipynb for \"IPython Notebook\" any of these are notebooks that we can open in Google Colab or Jupyter Notebook.\n",
        "\n",
        "You will find all lecture materials and your daily assignments in the Github repositories. "
      ]
    },
    {
      "cell_type": "markdown",
      "id": "f04cf99d",
      "metadata": {
        "id": "f04cf99d"
      },
      "source": [
        "### 3) Install the following Google Chrome extension. This will open any .ipynb file from GitHub directly in Google Colab: \n",
        "\n",
        "[Google Chrome Extension to Open .ipynb files easily in Google Colab](https://chrome.google.com/webstore/detail/open-in-colab/iogfkhleblhcpcekbiedikdehleodpjo?hl=en)\n",
        "\n",
        "When open in in Google Colab, go to **File** --> **\"Save a Copy in Drive\"**"
      ]
    },
    {
      "cell_type": "markdown",
      "id": "78ff3be5",
      "metadata": {
        "id": "78ff3be5"
      },
      "source": [
        "### 4) Upload your daily project to CodeGrade\n",
        "Under **Module Project**, click **Load Module Project in a new window** to submit your work. "
      ]
    },
    {
      "cell_type": "markdown",
      "id": "21164afa",
      "metadata": {
        "id": "21164afa"
      },
      "source": [
        "# What is Python?"
      ]
    },
    {
      "cell_type": "markdown",
      "id": "ed02dbf4",
      "metadata": {
        "id": "ed02dbf4"
      },
      "source": [
        "From the [source](https://www.python.org/doc/essays/blurb/):\n",
        "\n",
        "\"Python is an interpreted, object-oriented, high-level programming language with dynamic semantics. Its high-level built-in data structures, combined with dynamic typing and dynamic binding, make it very attractive for Rapid Application Development, as well as for use as a scripting or glue language to connect existing components together. Python's simple, easy to learn syntax emphasizes readability and therefore reduces the cost of program maintenance. Python supports modules and packages, which encourages program modularity and code reuse. The Python interpreter and the extensive standard library are available in source or binary form without charge for all major platforms, and can be freely distributed.\"\n"
      ]
    },
    {
      "cell_type": "markdown",
      "id": "db87a2de",
      "metadata": {
        "id": "db87a2de"
      },
      "source": [
        "# Python and Notebooks (Colab or Jupyter) \n",
        "\n",
        "We will be using Colab for Unit 1. Colab is a Jupyter Notebook environment that runs on the cloud and stores files in your Google Drive. "
      ]
    },
    {
      "cell_type": "code",
      "execution_count": null,
      "id": "5b65aca3",
      "metadata": {
        "id": "5b65aca3",
        "colab": {
          "base_uri": "https://localhost:8080/",
          "height": 35
        },
        "outputId": "554c03e3-db21-413c-fe62-cbd724c612a4"
      },
      "outputs": [
        {
          "output_type": "execute_result",
          "data": {
            "application/vnd.google.colaboratory.intrinsic+json": {
              "type": "string"
            },
            "text/plain": [
              "'Hello'"
            ]
          },
          "metadata": {},
          "execution_count": 1
        }
      ],
      "source": [
        "#run the following cell by clicking on the play button next to this text\n",
        "\"Hello\""
      ]
    },
    {
      "cell_type": "code",
      "source": [
        ""
      ],
      "metadata": {
        "id": "3FYZd5iRoyL8"
      },
      "id": "3FYZd5iRoyL8",
      "execution_count": null,
      "outputs": []
    },
    {
      "cell_type": "code",
      "execution_count": null,
      "id": "6997ad18",
      "metadata": {
        "id": "6997ad18",
        "colab": {
          "base_uri": "https://localhost:8080/"
        },
        "outputId": "703a243f-efc2-4322-d539-cca998e6eeb2"
      },
      "outputs": [
        {
          "output_type": "execute_result",
          "data": {
            "text/plain": [
              "6"
            ]
          },
          "metadata": {},
          "execution_count": 5
        }
      ],
      "source": [
        "#run the following cell by clicking Shift + Return\n",
        "2 + 2 + 2"
      ]
    },
    {
      "cell_type": "code",
      "source": [
        ""
      ],
      "metadata": {
        "id": "PgxQzmipoxT2"
      },
      "id": "PgxQzmipoxT2",
      "execution_count": null,
      "outputs": []
    },
    {
      "cell_type": "markdown",
      "id": "495fe2fe",
      "metadata": {
        "id": "495fe2fe"
      },
      "source": [
        "## Embrace the keyboard shortcuts: \n",
        "- Press 'esc' to enter navigation mode. \n",
        "- The keys 'a' and 'b' create code cells above and below your current cell when in navigation mode. \n",
        "- Click on the 'Tools' tab above to see additional short-cuts.\n",
        "- It's okay to use your mouse. You'll learn to code like a speedster with practice!"
      ]
    },
    {
      "cell_type": "markdown",
      "id": "95419091",
      "metadata": {
        "id": "95419091"
      },
      "source": [
        "## What is a Python Object? "
      ]
    },
    {
      "cell_type": "code",
      "execution_count": null,
      "id": "38d0c5e2",
      "metadata": {
        "id": "38d0c5e2"
      },
      "outputs": [],
      "source": [
        "x = 2\n"
      ]
    },
    {
      "cell_type": "code",
      "execution_count": null,
      "id": "29138b15",
      "metadata": {
        "id": "29138b15"
      },
      "outputs": [],
      "source": [
        "y = 7"
      ]
    },
    {
      "cell_type": "code",
      "execution_count": null,
      "id": "895a1d1a",
      "metadata": {
        "id": "895a1d1a",
        "colab": {
          "base_uri": "https://localhost:8080/"
        },
        "outputId": "dcbd8909-9e48-44a4-e4fe-73115e47be3d"
      },
      "outputs": [
        {
          "output_type": "execute_result",
          "data": {
            "text/plain": [
              "2"
            ]
          },
          "metadata": {},
          "execution_count": 9
        }
      ],
      "source": [
        "x + y\n",
        "\n",
        "x"
      ]
    },
    {
      "cell_type": "code",
      "execution_count": null,
      "id": "5f26f117",
      "metadata": {
        "id": "5f26f117",
        "colab": {
          "base_uri": "https://localhost:8080/"
        },
        "outputId": "49ee3493-c939-4569-8f7c-28d4a78a8058"
      },
      "outputs": [
        {
          "output_type": "execute_result",
          "data": {
            "text/plain": [
              "int"
            ]
          },
          "metadata": {},
          "execution_count": 10
        }
      ],
      "source": [
        "#What are built-in functions? \n",
        "type(x)"
      ]
    },
    {
      "cell_type": "code",
      "execution_count": null,
      "id": "a35187dd",
      "metadata": {
        "id": "a35187dd",
        "colab": {
          "base_uri": "https://localhost:8080/"
        },
        "outputId": "7d93ca58-34db-42a9-b2eb-c09237435e8b"
      },
      "outputs": [
        {
          "output_type": "stream",
          "name": "stdout",
          "text": [
            "Hello Julian\n"
          ]
        },
        {
          "output_type": "execute_result",
          "data": {
            "text/plain": [
              "7"
            ]
          },
          "metadata": {},
          "execution_count": 13
        }
      ],
      "source": [
        "#The print statement?\n",
        "print(\"Hello Julian\")\n",
        "\n",
        "#Difference between output and print statement.\n",
        "x\n",
        "#What happens when you include a print statement next to the y object? \n",
        "y"
      ]
    },
    {
      "cell_type": "code",
      "execution_count": null,
      "id": "18c4971c",
      "metadata": {
        "id": "18c4971c"
      },
      "outputs": [],
      "source": [
        ""
      ]
    },
    {
      "cell_type": "markdown",
      "id": "1004e67f",
      "metadata": {
        "id": "1004e67f"
      },
      "source": [
        "## Operators"
      ]
    },
    {
      "cell_type": "code",
      "execution_count": null,
      "id": "07abe276",
      "metadata": {
        "id": "07abe276",
        "colab": {
          "base_uri": "https://localhost:8080/"
        },
        "outputId": "fbafce39-e0c9-41fe-bef4-5d8d028c5d95"
      },
      "outputs": [
        {
          "output_type": "execute_result",
          "data": {
            "text/plain": [
              "9"
            ]
          },
          "metadata": {},
          "execution_count": 14
        }
      ],
      "source": [
        "#+ \n",
        "x + y"
      ]
    },
    {
      "cell_type": "code",
      "execution_count": null,
      "id": "06bd8490",
      "metadata": {
        "id": "06bd8490",
        "colab": {
          "base_uri": "https://localhost:8080/"
        },
        "outputId": "ce483378-42ba-4112-b902-402a0175b349"
      },
      "outputs": [
        {
          "output_type": "execute_result",
          "data": {
            "text/plain": [
              "5"
            ]
          },
          "metadata": {},
          "execution_count": 15
        }
      ],
      "source": [
        "#- \n",
        "y - x"
      ]
    },
    {
      "cell_type": "code",
      "execution_count": null,
      "id": "340c0445",
      "metadata": {
        "id": "340c0445",
        "colab": {
          "base_uri": "https://localhost:8080/"
        },
        "outputId": "94d27bbb-d0be-4e08-ef3c-eb5cb7b38f59"
      },
      "outputs": [
        {
          "output_type": "execute_result",
          "data": {
            "text/plain": [
              "4"
            ]
          },
          "metadata": {},
          "execution_count": 16
        }
      ],
      "source": [
        "\n",
        "#* \n",
        "x * 2"
      ]
    },
    {
      "cell_type": "code",
      "execution_count": null,
      "id": "048c8c4f",
      "metadata": {
        "id": "048c8c4f",
        "colab": {
          "base_uri": "https://localhost:8080/"
        },
        "outputId": "be17007d-afd0-4ac1-9e45-ec8c28047b23"
      },
      "outputs": [
        {
          "output_type": "execute_result",
          "data": {
            "text/plain": [
              "18"
            ]
          },
          "metadata": {},
          "execution_count": 18
        }
      ],
      "source": [
        "\n",
        "#/ \n",
        "\n",
        "(y + x) * x"
      ]
    },
    {
      "cell_type": "code",
      "execution_count": null,
      "id": "4c0b8762",
      "metadata": {
        "id": "4c0b8762",
        "colab": {
          "base_uri": "https://localhost:8080/"
        },
        "outputId": "a5507d69-fe46-4a11-de6e-ed5ac78e3011"
      },
      "outputs": [
        {
          "output_type": "execute_result",
          "data": {
            "text/plain": [
              "49"
            ]
          },
          "metadata": {},
          "execution_count": 19
        }
      ],
      "source": [
        "\n",
        "# **\n",
        "y ** 2"
      ]
    },
    {
      "cell_type": "code",
      "execution_count": null,
      "id": "c75db545",
      "metadata": {
        "id": "c75db545",
        "colab": {
          "base_uri": "https://localhost:8080/"
        },
        "outputId": "a2f29c39-0140-445d-dfb0-79e30d7fcedb"
      },
      "outputs": [
        {
          "output_type": "execute_result",
          "data": {
            "text/plain": [
              "3"
            ]
          },
          "metadata": {},
          "execution_count": 22
        }
      ],
      "source": [
        "#// \n",
        "\n",
        "7 // 2"
      ]
    },
    {
      "cell_type": "code",
      "execution_count": null,
      "id": "72272e4f",
      "metadata": {
        "id": "72272e4f",
        "colab": {
          "base_uri": "https://localhost:8080/"
        },
        "outputId": "e88aaf5c-3ab3-4898-e15e-83a68eaef91c"
      },
      "outputs": [
        {
          "output_type": "execute_result",
          "data": {
            "text/plain": [
              "1"
            ]
          },
          "metadata": {},
          "execution_count": 23
        }
      ],
      "source": [
        "\n",
        "#%\n",
        "\n",
        "7 % 2"
      ]
    },
    {
      "cell_type": "markdown",
      "id": "a716ff76",
      "metadata": {
        "id": "a716ff76"
      },
      "source": [
        "## Booleans"
      ]
    },
    {
      "cell_type": "code",
      "execution_count": null,
      "id": "f0072660",
      "metadata": {
        "id": "f0072660",
        "colab": {
          "base_uri": "https://localhost:8080/"
        },
        "outputId": "64b1ac59-7f15-47af-b6c9-f0129a1e521d"
      },
      "outputs": [
        {
          "output_type": "execute_result",
          "data": {
            "text/plain": [
              "True"
            ]
          },
          "metadata": {},
          "execution_count": 28
        }
      ],
      "source": [
        "x == y \n",
        "\n",
        "y > 4 and x < 3\n",
        "y > 4 and x > 3\n",
        "y > 4 or x > 3"
      ]
    },
    {
      "cell_type": "markdown",
      "id": "c86409be",
      "metadata": {
        "id": "c86409be"
      },
      "source": [
        "## Error Codes\n",
        "(...or How I learned to love my mistakes)"
      ]
    },
    {
      "cell_type": "code",
      "execution_count": null,
      "id": "85c73a82",
      "metadata": {
        "id": "85c73a82",
        "colab": {
          "base_uri": "https://localhost:8080/"
        },
        "outputId": "615bf62f-2332-4b93-9e36-d45d5b4064c6"
      },
      "outputs": [
        {
          "output_type": "execute_result",
          "data": {
            "text/plain": [
              "str"
            ]
          },
          "metadata": {},
          "execution_count": 30
        }
      ],
      "source": [
        "z = \"the number three\"\n",
        "type(z)"
      ]
    },
    {
      "cell_type": "code",
      "execution_count": null,
      "id": "a04ac3b8",
      "metadata": {
        "id": "a04ac3b8",
        "colab": {
          "base_uri": "https://localhost:8080/"
        },
        "outputId": "0f8c332f-d610-4067-c2a7-66a5acb0ac1f"
      },
      "outputs": [
        {
          "output_type": "execute_result",
          "data": {
            "text/plain": [
              "str"
            ]
          },
          "metadata": {},
          "execution_count": 31
        }
      ],
      "source": [
        "type(z)"
      ]
    },
    {
      "cell_type": "code",
      "execution_count": null,
      "id": "565b2c8b",
      "metadata": {
        "id": "565b2c8b",
        "colab": {
          "base_uri": "https://localhost:8080/",
          "height": 184
        },
        "outputId": "96bc3dc8-aebb-4285-80de-92a088cc6b32"
      },
      "outputs": [
        {
          "output_type": "error",
          "ename": "TypeError",
          "evalue": "ignored",
          "traceback": [
            "\u001b[0;31m---------------------------------------------------------------------------\u001b[0m",
            "\u001b[0;31mTypeError\u001b[0m                                 Traceback (most recent call last)",
            "\u001b[0;32m<ipython-input-32-7d719aa93104>\u001b[0m in \u001b[0;36m<module>\u001b[0;34m()\u001b[0m\n\u001b[1;32m      1\u001b[0m \u001b[0;31m#You're gonna get a lot of errors while you're learning to code, and that's okay!\u001b[0m\u001b[0;34m\u001b[0m\u001b[0;34m\u001b[0m\u001b[0;34m\u001b[0m\u001b[0m\n\u001b[0;32m----> 2\u001b[0;31m \u001b[0mx\u001b[0m \u001b[0;34m+\u001b[0m \u001b[0mz\u001b[0m\u001b[0;34m\u001b[0m\u001b[0;34m\u001b[0m\u001b[0m\n\u001b[0m",
            "\u001b[0;31mTypeError\u001b[0m: unsupported operand type(s) for +: 'int' and 'str'"
          ]
        }
      ],
      "source": [
        "#You're gonna get a lot of errors while you're learning to code, and that's okay!\n",
        "x + z\n"
      ]
    },
    {
      "cell_type": "code",
      "execution_count": null,
      "id": "3db0dd1b",
      "metadata": {
        "id": "3db0dd1b",
        "colab": {
          "base_uri": "https://localhost:8080/",
          "height": 131
        },
        "outputId": "61a9ae25-3f21-41fb-fccc-448d832f820a"
      },
      "outputs": [
        {
          "output_type": "error",
          "ename": "SyntaxError",
          "evalue": "ignored",
          "traceback": [
            "\u001b[0;36m  File \u001b[0;32m\"<ipython-input-33-6e05c8d4d8c7>\"\u001b[0;36m, line \u001b[0;32m1\u001b[0m\n\u001b[0;31m    ((x + y)\u001b[0m\n\u001b[0m            ^\u001b[0m\n\u001b[0;31mSyntaxError\u001b[0m\u001b[0;31m:\u001b[0m unexpected EOF while parsing\n"
          ]
        }
      ],
      "source": [
        "((x + y)"
      ]
    },
    {
      "cell_type": "code",
      "execution_count": null,
      "id": "81a376f6",
      "metadata": {
        "id": "81a376f6",
        "colab": {
          "base_uri": "https://localhost:8080/",
          "height": 166
        },
        "outputId": "d3749693-042d-40c9-b6ca-5810be96f0ea"
      },
      "outputs": [
        {
          "output_type": "error",
          "ename": "NameError",
          "evalue": "ignored",
          "traceback": [
            "\u001b[0;31m---------------------------------------------------------------------------\u001b[0m",
            "\u001b[0;31mNameError\u001b[0m                                 Traceback (most recent call last)",
            "\u001b[0;32m<ipython-input-34-00cf07b74dcd>\u001b[0m in \u001b[0;36m<module>\u001b[0;34m()\u001b[0m\n\u001b[0;32m----> 1\u001b[0;31m \u001b[0mdf\u001b[0m\u001b[0;34m\u001b[0m\u001b[0;34m\u001b[0m\u001b[0m\n\u001b[0m",
            "\u001b[0;31mNameError\u001b[0m: name 'df' is not defined"
          ]
        }
      ],
      "source": [
        "df"
      ]
    },
    {
      "cell_type": "markdown",
      "id": "6b4466bd",
      "metadata": {
        "id": "6b4466bd"
      },
      "source": [
        "## Data Types"
      ]
    },
    {
      "cell_type": "code",
      "execution_count": null,
      "id": "b5c6826e",
      "metadata": {
        "id": "b5c6826e",
        "colab": {
          "base_uri": "https://localhost:8080/"
        },
        "outputId": "825a9735-0834-4db6-be5b-5361b53d3d5b"
      },
      "outputs": [
        {
          "output_type": "execute_result",
          "data": {
            "text/plain": [
              "45.205"
            ]
          },
          "metadata": {},
          "execution_count": 35
        }
      ],
      "source": [
        "#integers\n",
        "45\n",
        "#floats\n",
        "45.205\n",
        "#strings"
      ]
    },
    {
      "cell_type": "markdown",
      "id": "4c9a120c",
      "metadata": {
        "id": "4c9a120c"
      },
      "source": [
        "#### Lists\n",
        "Used to store multiple items in a single variable. List items are ordered (indexed), changeable, and allow duplicate values. "
      ]
    },
    {
      "cell_type": "code",
      "execution_count": null,
      "id": "616b951a",
      "metadata": {
        "id": "616b951a",
        "colab": {
          "base_uri": "https://localhost:8080/"
        },
        "outputId": "5b122d9a-73ed-49a9-8853-ecebd127ee09"
      },
      "outputs": [
        {
          "output_type": "execute_result",
          "data": {
            "text/plain": [
              "['fall', 'winter', 'summer', 'spring']"
            ]
          },
          "metadata": {},
          "execution_count": 36
        }
      ],
      "source": [
        "season_list = ['fall', 'winter', 'summer', 'spring']\n",
        "season_list"
      ]
    },
    {
      "cell_type": "code",
      "execution_count": 1,
      "id": "b4c68f7d",
      "metadata": {
        "id": "b4c68f7d",
        "colab": {
          "base_uri": "https://localhost:8080/"
        },
        "outputId": "5a34526b-dc32-43c6-a405-2b5aacfabc2c"
      },
      "outputs": [
        {
          "output_type": "execute_result",
          "data": {
            "text/plain": [
              "['fall', 'winter', 'summer', 'spring', 'spring']"
            ]
          },
          "metadata": {},
          "execution_count": 1
        }
      ],
      "source": [
        "season_list = ['fall', 'winter', 'summer', 'spring', 'spring']\n",
        "season_list"
      ]
    },
    {
      "cell_type": "code",
      "source": [
        "season_list[]"
      ],
      "metadata": {
        "colab": {
          "base_uri": "https://localhost:8080/",
          "height": 35
        },
        "id": "-8m9SqTqsnaK",
        "outputId": "f92844dd-0c43-43db-e087-ecd48dd2e819"
      },
      "id": "-8m9SqTqsnaK",
      "execution_count": null,
      "outputs": [
        {
          "output_type": "execute_result",
          "data": {
            "application/vnd.google.colaboratory.intrinsic+json": {
              "type": "string"
            },
            "text/plain": [
              "'spring'"
            ]
          },
          "metadata": {},
          "execution_count": 42
        }
      ]
    },
    {
      "cell_type": "markdown",
      "id": "1ab4a2f1",
      "metadata": {
        "id": "1ab4a2f1"
      },
      "source": [
        "#### Sets\n",
        "Sets are unordered, unchangeable and unindexed. "
      ]
    },
    {
      "cell_type": "code",
      "execution_count": null,
      "id": "f52fc965",
      "metadata": {
        "id": "f52fc965",
        "colab": {
          "base_uri": "https://localhost:8080/"
        },
        "outputId": "7386e64d-49ed-4d39-d681-d3be0f5b07ec"
      },
      "outputs": [
        {
          "output_type": "execute_result",
          "data": {
            "text/plain": [
              "{'fall', 'spring', 'summer', 'winter'}"
            ]
          },
          "metadata": {},
          "execution_count": 43
        }
      ],
      "source": [
        "season_set = {'fall', 'winter', 'summer', 'spring'}\n",
        "season_set"
      ]
    },
    {
      "cell_type": "code",
      "execution_count": null,
      "id": "11e5c146",
      "metadata": {
        "id": "11e5c146",
        "colab": {
          "base_uri": "https://localhost:8080/"
        },
        "outputId": "593d4a7f-327d-486a-d6a6-080869d9b539"
      },
      "outputs": [
        {
          "output_type": "execute_result",
          "data": {
            "text/plain": [
              "{'fall', 'spring', 'summer', 'winter'}"
            ]
          },
          "metadata": {},
          "execution_count": 44
        }
      ],
      "source": [
        "season_set = {'summer', 'fall', 'winter',  'spring', 'spring'}\n",
        "\n",
        "season_set"
      ]
    },
    {
      "cell_type": "markdown",
      "id": "147b257b",
      "metadata": {
        "id": "147b257b"
      },
      "source": [
        "#### Tuples\n",
        "Tuple items are ordered, unchangeable, and allow duplicate values."
      ]
    },
    {
      "cell_type": "code",
      "execution_count": null,
      "id": "5c5b06a3",
      "metadata": {
        "id": "5c5b06a3",
        "colab": {
          "base_uri": "https://localhost:8080/"
        },
        "outputId": "cd05f702-c9fe-4f5e-d6ee-fd38300bf18a"
      },
      "outputs": [
        {
          "output_type": "execute_result",
          "data": {
            "text/plain": [
              "('fall', 'winter', 'summer', 'spring', 'spring')"
            ]
          },
          "metadata": {},
          "execution_count": 45
        }
      ],
      "source": [
        "season_tuple = ('fall', 'winter', 'summer', 'spring', 'spring')\n",
        "season_tuple"
      ]
    },
    {
      "cell_type": "code",
      "execution_count": null,
      "id": "bb93a8fa",
      "metadata": {
        "id": "bb93a8fa"
      },
      "outputs": [],
      "source": [
        "season_tuple['fall'] = 'summer'"
      ]
    },
    {
      "cell_type": "markdown",
      "id": "fc042d03",
      "metadata": {
        "id": "fc042d03"
      },
      "source": [
        "**Tuple Unpacking**"
      ]
    },
    {
      "cell_type": "code",
      "execution_count": null,
      "id": "626ac6d1",
      "metadata": {
        "id": "626ac6d1",
        "colab": {
          "base_uri": "https://localhost:8080/",
          "height": 35
        },
        "outputId": "17edaa99-82c5-446c-cd9e-aed7a5fedd55"
      },
      "outputs": [
        {
          "output_type": "execute_result",
          "data": {
            "application/vnd.google.colaboratory.intrinsic+json": {
              "type": "string"
            },
            "text/plain": [
              "'fall'"
            ]
          },
          "metadata": {},
          "execution_count": 47
        }
      ],
      "source": [
        "season1, season2, season3, season4, season5 = season_tuple\n",
        "season1"
      ]
    },
    {
      "cell_type": "markdown",
      "id": "a15eddf3",
      "metadata": {
        "id": "a15eddf3"
      },
      "source": [
        "#### Dictionaries\n",
        "\n",
        "Dictionaries store values in key:value pairs. The are ordered, changeable and do not allow duplicates."
      ]
    },
    {
      "cell_type": "code",
      "execution_count": null,
      "id": "ef36c64f",
      "metadata": {
        "id": "ef36c64f",
        "colab": {
          "base_uri": "https://localhost:8080/"
        },
        "outputId": "827782a9-33b4-4f74-d6e5-8a8cda36dc72"
      },
      "outputs": [
        {
          "output_type": "execute_result",
          "data": {
            "text/plain": [
              "{'fall': 'colorful', 'summer': 'hot', 'winter': 'cold'}"
            ]
          },
          "metadata": {},
          "execution_count": 48
        }
      ],
      "source": [
        "\n",
        "season_dict = {\"winter\" : 'cold', 'summer' : 'hot', 'fall' : 'colorful'}\n",
        "season_dict"
      ]
    },
    {
      "cell_type": "code",
      "execution_count": null,
      "id": "fa951fa6",
      "metadata": {
        "id": "fa951fa6",
        "colab": {
          "base_uri": "https://localhost:8080/"
        },
        "outputId": "e7132821-b873-4967-89ea-f5d638ba55f4"
      },
      "outputs": [
        {
          "output_type": "execute_result",
          "data": {
            "text/plain": [
              "{'fall': 'colorful', 'summer': 'humid', 'winter': 'cold'}"
            ]
          },
          "metadata": {},
          "execution_count": 53
        }
      ],
      "source": [
        "season_dict = {\"winter\" : 'cold', 'summer' : 'hot', 'fall' : 'colorful', 'summer': 'humid'}\n",
        "season_dict"
      ]
    },
    {
      "cell_type": "code",
      "execution_count": null,
      "id": "623c8cad",
      "metadata": {
        "id": "623c8cad",
        "colab": {
          "base_uri": "https://localhost:8080/"
        },
        "outputId": "8cd74cd4-095f-497c-b630-0a7a907e427c"
      },
      "outputs": [
        {
          "output_type": "stream",
          "name": "stdout",
          "text": [
            "My name's Julian\n",
            "My name's Julian\n"
          ]
        }
      ],
      "source": [
        "season_dict['summer']\n",
        "\n",
        "#\"\" ''\n",
        "\n",
        "print('My name\\'s Julian')\n",
        "print(\"My name's Julian\")"
      ]
    },
    {
      "cell_type": "markdown",
      "id": "fd236ec6",
      "metadata": {
        "id": "fd236ec6"
      },
      "source": [
        "## Object Methods and How To Use Them\n",
        "Use those keyboard shortcuts! <br>\n",
        "Jupyter Notebook -> Tab after period<br>\n",
        "Colab -> Cursor hover after period"
      ]
    },
    {
      "cell_type": "code",
      "execution_count": 3,
      "id": "b482c3cc",
      "metadata": {
        "id": "b482c3cc",
        "colab": {
          "base_uri": "https://localhost:8080/",
          "height": 35
        },
        "outputId": "518b9ce2-d473-4a59-d4db-90cde0a44647"
      },
      "outputs": [
        {
          "output_type": "execute_result",
          "data": {
            "text/plain": [
              "'winter'"
            ],
            "application/vnd.google.colaboratory.intrinsic+json": {
              "type": "string"
            }
          },
          "metadata": {},
          "execution_count": 3
        }
      ],
      "source": [
        "#some changes happen in place\n",
        "#pop\n",
        "season_list.pop(1)"
      ]
    },
    {
      "cell_type": "code",
      "source": [
        "season_list"
      ],
      "metadata": {
        "colab": {
          "base_uri": "https://localhost:8080/"
        },
        "id": "gmz1hbFlvz5o",
        "outputId": "99a49c72-5e6e-49df-a0ce-f4f2bf36314e"
      },
      "id": "gmz1hbFlvz5o",
      "execution_count": null,
      "outputs": [
        {
          "output_type": "execute_result",
          "data": {
            "text/plain": [
              "['fall', 'summer', 'spring']"
            ]
          },
          "metadata": {},
          "execution_count": 66
        }
      ]
    },
    {
      "cell_type": "code",
      "source": [
        ""
      ],
      "metadata": {
        "id": "s--h3da6vzfH"
      },
      "id": "s--h3da6vzfH",
      "execution_count": null,
      "outputs": []
    },
    {
      "cell_type": "code",
      "execution_count": null,
      "id": "66879b10",
      "metadata": {
        "id": "66879b10",
        "colab": {
          "base_uri": "https://localhost:8080/"
        },
        "outputId": "2594152a-1533-4dea-dbde-3d40e586bcf8"
      },
      "outputs": [
        {
          "output_type": "execute_result",
          "data": {
            "text/plain": [
              "dict_keys(['winter', 'summer', 'fall'])"
            ]
          },
          "metadata": {},
          "execution_count": 67
        }
      ],
      "source": [
        "#keys\n",
        "season_dict.keys()"
      ]
    },
    {
      "cell_type": "code",
      "execution_count": null,
      "id": "cbb7f5d6",
      "metadata": {
        "id": "cbb7f5d6",
        "colab": {
          "base_uri": "https://localhost:8080/",
          "height": 35
        },
        "outputId": "78aedffc-ddaf-4056-9f7f-956b4727701e"
      },
      "outputs": [
        {
          "output_type": "execute_result",
          "data": {
            "application/vnd.google.colaboratory.intrinsic+json": {
              "type": "string"
            },
            "text/plain": [
              "'humid'"
            ]
          },
          "metadata": {},
          "execution_count": 68
        }
      ],
      "source": [
        "#pop\n",
        "season_dict.pop(\"summer\")"
      ]
    },
    {
      "cell_type": "code",
      "source": [
        "season_dict"
      ],
      "metadata": {
        "colab": {
          "base_uri": "https://localhost:8080/"
        },
        "id": "vd3f2ZhSwK8r",
        "outputId": "0eb748b1-fd36-4dc3-8257-80d7c7580d6d"
      },
      "id": "vd3f2ZhSwK8r",
      "execution_count": null,
      "outputs": [
        {
          "output_type": "execute_result",
          "data": {
            "text/plain": [
              "{'fall': 'colorful', 'winter': 'cold'}"
            ]
          },
          "metadata": {},
          "execution_count": 69
        }
      ]
    },
    {
      "cell_type": "code",
      "execution_count": null,
      "id": "78715f59",
      "metadata": {
        "id": "78715f59"
      },
      "outputs": [],
      "source": [
        "\n",
        "#clear\n",
        "season_dict.clear()"
      ]
    },
    {
      "cell_type": "code",
      "source": [
        "season_dict"
      ],
      "metadata": {
        "colab": {
          "base_uri": "https://localhost:8080/"
        },
        "id": "KIU1lsqEwQE1",
        "outputId": "40424d70-4aac-4c23-dcdd-59741b98be7b"
      },
      "id": "KIU1lsqEwQE1",
      "execution_count": null,
      "outputs": [
        {
          "output_type": "execute_result",
          "data": {
            "text/plain": [
              "{}"
            ]
          },
          "metadata": {},
          "execution_count": 71
        }
      ]
    },
    {
      "cell_type": "markdown",
      "id": "22b240e0",
      "metadata": {
        "id": "22b240e0"
      },
      "source": [
        "## Indexing"
      ]
    },
    {
      "cell_type": "code",
      "execution_count": null,
      "id": "080082e3",
      "metadata": {
        "id": "080082e3",
        "colab": {
          "base_uri": "https://localhost:8080/"
        },
        "outputId": "ca53129b-f971-472f-cba0-fb1e7c4e973a"
      },
      "outputs": [
        {
          "output_type": "execute_result",
          "data": {
            "text/plain": [
              "str"
            ]
          },
          "metadata": {},
          "execution_count": 75
        }
      ],
      "source": [
        "type(season_list[1])"
      ]
    },
    {
      "cell_type": "code",
      "execution_count": null,
      "id": "7e875866",
      "metadata": {
        "id": "7e875866",
        "colab": {
          "base_uri": "https://localhost:8080/",
          "height": 35
        },
        "outputId": "9ea38975-cb06-4743-d091-09b3d6d4264b"
      },
      "outputs": [
        {
          "output_type": "execute_result",
          "data": {
            "application/vnd.google.colaboratory.intrinsic+json": {
              "type": "string"
            },
            "text/plain": [
              "'sum'"
            ]
          },
          "metadata": {},
          "execution_count": 80
        }
      ],
      "source": [
        "season_list[1][0:3]"
      ]
    },
    {
      "cell_type": "code",
      "execution_count": null,
      "id": "f2c41baf",
      "metadata": {
        "id": "f2c41baf",
        "colab": {
          "base_uri": "https://localhost:8080/",
          "height": 35
        },
        "outputId": "581561f5-8555-4f21-8e86-afd9365026ee"
      },
      "outputs": [
        {
          "output_type": "execute_result",
          "data": {
            "application/vnd.google.colaboratory.intrinsic+json": {
              "type": "string"
            },
            "text/plain": [
              "'sme'"
            ]
          },
          "metadata": {},
          "execution_count": 81
        }
      ],
      "source": [
        "season_list[1][0::2]"
      ]
    },
    {
      "cell_type": "markdown",
      "id": "b2fa83ab",
      "metadata": {
        "id": "b2fa83ab"
      },
      "source": [
        "## Loops"
      ]
    },
    {
      "cell_type": "code",
      "execution_count": null,
      "id": "acfcd571",
      "metadata": {
        "id": "acfcd571",
        "colab": {
          "base_uri": "https://localhost:8080/"
        },
        "outputId": "8325431d-ea13-4bc8-b9e3-c4d834a43ad0"
      },
      "outputs": [
        {
          "output_type": "execute_result",
          "data": {
            "text/plain": [
              "['fall', 'summer', 'spring']"
            ]
          },
          "metadata": {},
          "execution_count": 82
        }
      ],
      "source": [
        "season_list"
      ]
    },
    {
      "cell_type": "code",
      "execution_count": null,
      "id": "43676f14",
      "metadata": {
        "id": "43676f14",
        "colab": {
          "base_uri": "https://localhost:8080/",
          "height": 35
        },
        "outputId": "fdd29574-071a-4c6b-d88c-6a7e58593ee3"
      },
      "outputs": [
        {
          "output_type": "execute_result",
          "data": {
            "application/vnd.google.colaboratory.intrinsic+json": {
              "type": "string"
            },
            "text/plain": [
              "'FALL'"
            ]
          },
          "metadata": {},
          "execution_count": 85
        }
      ],
      "source": [
        "'fall'.upper()"
      ]
    },
    {
      "cell_type": "code",
      "source": [
        "for i in season_list:\n",
        "  print(i.upper())  "
      ],
      "metadata": {
        "colab": {
          "base_uri": "https://localhost:8080/",
          "height": 131
        },
        "id": "6NHOif1axUcK",
        "outputId": "6f03a2c5-9cff-45af-cba6-993047f1a172"
      },
      "id": "6NHOif1axUcK",
      "execution_count": null,
      "outputs": [
        {
          "output_type": "error",
          "ename": "IndentationError",
          "evalue": "ignored",
          "traceback": [
            "\u001b[0;36m  File \u001b[0;32m\"<ipython-input-87-1663bd35007d>\"\u001b[0;36m, line \u001b[0;32m2\u001b[0m\n\u001b[0;31m    print(i.upper())\u001b[0m\n\u001b[0m        ^\u001b[0m\n\u001b[0;31mIndentationError\u001b[0m\u001b[0;31m:\u001b[0m expected an indented block\n"
          ]
        }
      ]
    },
    {
      "cell_type": "markdown",
      "id": "d4bf496b",
      "metadata": {
        "id": "d4bf496b"
      },
      "source": [
        "## Conditionals"
      ]
    },
    {
      "cell_type": "code",
      "execution_count": null,
      "id": "55f747e6",
      "metadata": {
        "id": "55f747e6",
        "colab": {
          "base_uri": "https://localhost:8080/"
        },
        "outputId": "f87a33f7-f3bf-49f4-e2a0-adeab4784033"
      },
      "outputs": [
        {
          "output_type": "execute_result",
          "data": {
            "text/plain": [
              "True"
            ]
          },
          "metadata": {},
          "execution_count": 88
        }
      ],
      "source": [
        " y >= 7"
      ]
    },
    {
      "cell_type": "code",
      "execution_count": null,
      "id": "7a35dd0c",
      "metadata": {
        "id": "7a35dd0c",
        "colab": {
          "base_uri": "https://localhost:8080/"
        },
        "outputId": "7fe3f490-1016-4d0a-a40a-11aa6a87a318"
      },
      "outputs": [
        {
          "output_type": "stream",
          "name": "stdout",
          "text": [
            "Something else\n"
          ]
        }
      ],
      "source": [
        "if y >= 8:\n",
        "  print(\"Y is greater than or equal 7\")\n",
        "else:\n",
        "  print(\"Something else\")"
      ]
    },
    {
      "cell_type": "code",
      "execution_count": null,
      "id": "ca05f1b2",
      "metadata": {
        "id": "ca05f1b2",
        "colab": {
          "base_uri": "https://localhost:8080/"
        },
        "outputId": "ec988c52-854b-491a-829b-1d81d1a96a8b"
      },
      "outputs": [
        {
          "output_type": "execute_result",
          "data": {
            "text/plain": [
              "7"
            ]
          },
          "metadata": {},
          "execution_count": 91
        }
      ],
      "source": [
        "y"
      ]
    },
    {
      "cell_type": "code",
      "execution_count": null,
      "id": "216654a2",
      "metadata": {
        "id": "216654a2",
        "colab": {
          "base_uri": "https://localhost:8080/"
        },
        "outputId": "29d5b77a-379c-418f-ecd4-b0a423c18b31"
      },
      "outputs": [
        {
          "output_type": "stream",
          "name": "stdout",
          "text": [
            "Y is less than 8\n"
          ]
        }
      ],
      "source": [
        "if y >= 8:\n",
        "  print(\"Y is greater than or equal to 8\")\n",
        "elif y < 8:\n",
        "  print(\"Y is less than 8\")\n",
        "else:\n",
        "  print(\"Something else\")"
      ]
    },
    {
      "cell_type": "code",
      "execution_count": null,
      "id": "c67825b1",
      "metadata": {
        "id": "c67825b1"
      },
      "outputs": [],
      "source": [
        "#create empty lists \n"
      ]
    },
    {
      "cell_type": "code",
      "execution_count": null,
      "id": "5dcdb611",
      "metadata": {
        "id": "5dcdb611"
      },
      "outputs": [],
      "source": [
        ""
      ]
    },
    {
      "cell_type": "code",
      "execution_count": null,
      "id": "02770b1e",
      "metadata": {
        "id": "02770b1e"
      },
      "outputs": [],
      "source": [
        ""
      ]
    },
    {
      "cell_type": "markdown",
      "id": "3767aa2d",
      "metadata": {
        "id": "3767aa2d"
      },
      "source": [
        "## Imports"
      ]
    },
    {
      "cell_type": "code",
      "execution_count": null,
      "id": "81be78ca",
      "metadata": {
        "id": "81be78ca"
      },
      "outputs": [],
      "source": [
        "\n"
      ]
    },
    {
      "cell_type": "markdown",
      "id": "bcc9d485",
      "metadata": {
        "id": "bcc9d485"
      },
      "source": [
        "The most popular data science libraries are numpy, pandas and matplotlib (for visualizations)"
      ]
    },
    {
      "cell_type": "code",
      "execution_count": null,
      "id": "5a21459d",
      "metadata": {
        "id": "5a21459d"
      },
      "outputs": [],
      "source": [
        "import pandas as pd\n"
      ]
    },
    {
      "cell_type": "code",
      "execution_count": null,
      "id": "e004ea6b",
      "metadata": {
        "id": "e004ea6b"
      },
      "outputs": [],
      "source": [
        "import seaborn as sns"
      ]
    },
    {
      "cell_type": "code",
      "execution_count": null,
      "id": "196fc5bb",
      "metadata": {
        "id": "196fc5bb"
      },
      "outputs": [],
      "source": [
        "diamond = sns.load_dataset('diamonds')"
      ]
    },
    {
      "cell_type": "code",
      "execution_count": null,
      "id": "1580756e",
      "metadata": {
        "id": "1580756e",
        "colab": {
          "base_uri": "https://localhost:8080/"
        },
        "outputId": "4f6be2ce-f83c-4ddc-da44-8c0333bc4fef"
      },
      "outputs": [
        {
          "output_type": "execute_result",
          "data": {
            "text/plain": [
              "pandas.core.frame.DataFrame"
            ]
          },
          "metadata": {},
          "execution_count": 99
        }
      ],
      "source": [
        "type(diamond)"
      ]
    },
    {
      "cell_type": "code",
      "execution_count": null,
      "id": "59b1874c",
      "metadata": {
        "id": "59b1874c"
      },
      "outputs": [],
      "source": [
        "diamond"
      ]
    },
    {
      "cell_type": "code",
      "execution_count": null,
      "id": "d2c6693e",
      "metadata": {
        "id": "d2c6693e"
      },
      "outputs": [],
      "source": [
        ""
      ]
    },
    {
      "cell_type": "code",
      "execution_count": null,
      "id": "4813e8e5",
      "metadata": {
        "id": "4813e8e5"
      },
      "outputs": [],
      "source": [
        ""
      ]
    }
  ],
  "metadata": {
    "kernelspec": {
      "display_name": "Python 3",
      "language": "python",
      "name": "python3"
    },
    "language_info": {
      "codemirror_mode": {
        "name": "ipython",
        "version": 3
      },
      "file_extension": ".py",
      "mimetype": "text/x-python",
      "name": "python",
      "nbconvert_exporter": "python",
      "pygments_lexer": "ipython3",
      "version": "3.8.8"
    },
    "colab": {
      "name": "DS_111_Intro_to_Python_DS38.ipynb",
      "provenance": [],
      "include_colab_link": true
    }
  },
  "nbformat": 4,
  "nbformat_minor": 5
}